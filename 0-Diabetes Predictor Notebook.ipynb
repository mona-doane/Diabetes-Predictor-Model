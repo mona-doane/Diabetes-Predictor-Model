{
 "cells": [
  {
   "cell_type": "markdown",
   "id": "7638854d-235e-43b9-b6e4-436038458dd4",
   "metadata": {},
   "source": [
    "# DIABETES PREDICTOR TOOL PROJECT "
   ]
  },
  {
   "cell_type": "markdown",
   "id": "92153734-f734-4c2d-b2ee-85a726b24aac",
   "metadata": {},
   "source": [
    "#### By Mona Doane, BMath, BSCS"
   ]
  },
  {
   "cell_type": "markdown",
   "id": "19c265ad-6226-4f02-b00d-d1250689dc99",
   "metadata": {},
   "source": [
    "## PROBLEM DEFINITION:  \n",
    "The problem of diabetes requires early detection and this project aims to create a machine-learning tool that provides First-Class Health Care Systems with a solution.  The question that the machine-learning tool expects to answer is \"Given certain parameters about a person, can one predict whether the person has diabetes?\""
   ]
  },
  {
   "cell_type": "markdown",
   "id": "50f127c4-5731-4da5-8bd6-e7960862db36",
   "metadata": {},
   "source": [
    "## SOLUTION OVERVIEW\n",
    "\n",
    "This notebook provides the methodology used to create a machine-learning-based diabetes predictor tool using the data available from the CDC and includes a demonstration of the **Diabetes Predictor Tool** for use by First-Class Health Care Systems."
   ]
  },
  {
   "cell_type": "markdown",
   "id": "6e5dd083-f4f9-4a73-834d-aea2e1493f18",
   "metadata": {},
   "source": [
    "## CONTENTS\n",
    "\n",
    "The notebook is separated into two sections: \n",
    "- **A.**   Methodology for developing the Diabetes Predictor Tool\n",
    "  > https://github.com/mdoane7/capstone/blob/main/1-Methodology.ipynb\n",
    "- **B.**   Application demonstrating the Diabetes Predictor Tool\n",
    "  * INTERACTIVE\n",
    "  > https://mybinder.org/v2/gh/mdoane7/capstone/HEAD?labpath=2-Application.ipynb \n",
    "  * CODE ONLY: \n",
    "  > https://github.com/mdoane7/capstone/blob/main/2-Application.ipynb\n",
    "\n",
    "Note that to run the interactive application, you can also follow the instructions provided in the Preliminary User Guide Section below and in the Post Implementation Report.  \r\n",
    "\n"
   ]
  },
  {
   "cell_type": "markdown",
   "id": "ce3816ed-71b6-4c57-87d3-46ee75d5abff",
   "metadata": {},
   "source": [
    "## PRELIMINARY USER GUIDE "
   ]
  },
  {
   "cell_type": "markdown",
   "id": "f5f867c3-399c-4a37-8d59-55f505ba5420",
   "metadata": {},
   "source": [
    "Instructions to use the Diabetes Predictor Tool in an interactive environment are as follows: \n",
    "1. Open a Google Chrome window and go to\n",
    "   > https://mybinder.org/\n",
    "2. Complete the <b>Build and launch a repository </b> box as follows:\n",
    "3. Under the “GitHub repository name or URL” field, enter the following:\n",
    "   > https://github.com/mdoane7/capstone\n",
    "4. Under the “Path to a notebook file (optional), enter the following:\n",
    "   > 2-Application.ipynb\n",
    "5. Click the launch button. NOTE: It may take a moment for the docker image to load and run. \n",
    "6. Once the Jupyter Notebook opens, click on this button (>>) to run all the cells in the notebook.\n",
    "7. Click Restart when the Restart Kernel box appears.\n",
    "8. Scroll to the bottom of Jupyter Notebook to the second box labeled [4] with the title “DIABETES SURVEY TOOL”. \n",
    "9. Enter the data in the Survey Tool.\n",
    "10. Click Predict when done. \n"
   ]
  },
  {
   "cell_type": "markdown",
   "id": "a5e0688f-90fa-40f2-91b0-0085ed7ac32c",
   "metadata": {},
   "source": [
    "## RESOURCES USED\n",
    "\n",
    "Jupyter Notebook and Machine Learning: \n",
    "> https://www.udemy.com/course/complete-machine-learning-and-data-science-zero-to-mastery/learn/lecture/16451328#overview\n",
    "\n",
    "Data for Methodology:\n",
    "> https://www.kaggle.com/datasets/dariushbahrami/cdc-brfss-survey-2021\n",
    "\n",
    "Explanation of Data and Column Headers:\n",
    "> https://www.cdc.gov/brfss/annual_data/2021/pdf/codebook21_llcp-v2-508.pdf"
   ]
  }
 ],
 "metadata": {
  "kernelspec": {
   "display_name": "Python 3 (ipykernel)",
   "language": "python",
   "name": "python3"
  },
  "language_info": {
   "codemirror_mode": {
    "name": "ipython",
    "version": 3
   },
   "file_extension": ".py",
   "mimetype": "text/x-python",
   "name": "python",
   "nbconvert_exporter": "python",
   "pygments_lexer": "ipython3",
   "version": "3.10.13"
  }
 },
 "nbformat": 4,
 "nbformat_minor": 5
}
